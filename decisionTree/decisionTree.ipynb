{
 "cells": [
  {
   "cell_type": "code",
   "execution_count": null,
   "id": "e008d3b2-082e-453e-bedc-04b66c83edfa",
   "metadata": {},
   "outputs": [],
   "source": [
    "import pandas as pd\n",
    "import numpy as np\n",
    "import matplotlib.pyplot as plt\n",
    "%matplotlib inline\n",
    "import seaborn as sns\n",
    "from sklearn.preprocessing import LabelEncoder, StandardScaler\n",
    "from sklearn.model_selection import train_test_split\n",
    "from sklearn.metrics import accuracy_score, confusion_matrix,classification_report\n",
    "from sklearn.tree import DecisionTreeClassifier"
   ]
  },
  {
   "cell_type": "code",
   "execution_count": null,
   "id": "468c3446-4ac8-498c-a7c9-069ba7128999",
   "metadata": {},
   "outputs": [],
   "source": [
    "dataSet=pd.read_csv('car_evaluation.csv')"
   ]
  },
  {
   "cell_type": "code",
   "execution_count": null,
   "id": "53c4645f-d847-49e5-9a1b-6e51d6f71240",
   "metadata": {},
   "outputs": [],
   "source": [
    "dataSet.head()"
   ]
  },
  {
   "cell_type": "code",
   "execution_count": null,
   "id": "69a2d15b-2e85-48cc-ac91-6e6c575d32f5",
   "metadata": {},
   "outputs": [],
   "source": [
    "col_names = ['buying', 'maint', 'doors', 'persons', 'lug_boot', 'safety', 'class']\n",
    "dataSet.columns = col_names\n",
    "dataSet.head()"
   ]
  },
  {
   "cell_type": "code",
   "execution_count": null,
   "id": "56f3abbc-7a33-41e5-9747-e003f766d321",
   "metadata": {},
   "outputs": [],
   "source": [
    "dataSet[col_names].isnull().sum()"
   ]
  },
  {
   "cell_type": "code",
   "execution_count": null,
   "id": "328341a9-42a2-4122-8461-f110f5eb78b1",
   "metadata": {},
   "outputs": [],
   "source": [
    "dataSet.info()"
   ]
  },
  {
   "cell_type": "code",
   "execution_count": null,
   "id": "2e4783a7-884f-4e9f-adef-2b74bf37973b",
   "metadata": {},
   "outputs": [],
   "source": [
    "categorical=[var for var in dataSet.columns if dataSet[var].dtype=='O']"
   ]
  },
  {
   "cell_type": "code",
   "execution_count": null,
   "id": "f8d8bb77-9a0c-4cbf-93f6-eb134423078e",
   "metadata": {},
   "outputs": [],
   "source": [
    "for var in categorical:\n",
    "    print(dataSet[var].value_counts()/float(len(dataSet)))"
   ]
  },
  {
   "cell_type": "code",
   "execution_count": null,
   "id": "a121624c-0ca7-4211-8f50-0301abafa126",
   "metadata": {},
   "outputs": [],
   "source": [
    "le = LabelEncoder()\n",
    "for col in categorical:\n",
    "    if col != \"class\":\n",
    "        dataSet[col] = le.fit_transform(dataSet[col])"
   ]
  },
  {
   "cell_type": "code",
   "execution_count": null,
   "id": "4de0c929-f1b3-47f9-9c50-4d3e05b98aad",
   "metadata": {},
   "outputs": [],
   "source": [
    "X = dataSet.drop('class', axis=1)\n",
    "y = dataSet['class']"
   ]
  },
  {
   "cell_type": "code",
   "execution_count": null,
   "id": "c0721c6c-4ad5-49d3-9f84-8e97592dbdb8",
   "metadata": {},
   "outputs": [],
   "source": [
    "X_train, X_test, y_train, y_test = train_test_split(X, y, test_size=0.3 ,random_state=42)"
   ]
  },
  {
   "cell_type": "code",
   "execution_count": null,
   "id": "a98834b6-72af-480c-8fc8-83153b1397c4",
   "metadata": {},
   "outputs": [],
   "source": [
    "model = DecisionTreeClassifier(random_state=42)\n",
    "model.fit(X_train,y_train)"
   ]
  },
  {
   "cell_type": "code",
   "execution_count": null,
   "id": "e2149e38-64c7-4f6a-b12e-f8c43c97e1cc",
   "metadata": {},
   "outputs": [],
   "source": [
    "y_pred = model.predict(X_test)\n",
    "y_pred"
   ]
  },
  {
   "cell_type": "code",
   "execution_count": null,
   "id": "59b2eb60-8e1b-4297-8b0b-86458b566b52",
   "metadata": {},
   "outputs": [],
   "source": [
    "accuracy_score(y_test,y_pred)"
   ]
  },
  {
   "cell_type": "code",
   "execution_count": null,
   "id": "3e421c60-3c60-4887-9922-7d40b68c31bc",
   "metadata": {},
   "outputs": [],
   "source": [
    "confusion_matrix(y_test, y_pred)"
   ]
  },
  {
   "cell_type": "code",
   "execution_count": null,
   "id": "b43dd88b-dc1a-4691-8432-ff5f939d2066",
   "metadata": {},
   "outputs": [],
   "source": [
    "cm = classification_report(y_test, y_pred)\n",
    "print(cm)"
   ]
  }
 ],
 "metadata": {
  "kernelspec": {
   "display_name": "Python 3 (ipykernel)",
   "language": "python",
   "name": "python3"
  },
  "language_info": {
   "codemirror_mode": {
    "name": "ipython",
    "version": 3
   },
   "file_extension": ".py",
   "mimetype": "text/x-python",
   "name": "python",
   "nbconvert_exporter": "python",
   "pygments_lexer": "ipython3",
   "version": "3.12.2"
  }
 },
 "nbformat": 4,
 "nbformat_minor": 5
}
