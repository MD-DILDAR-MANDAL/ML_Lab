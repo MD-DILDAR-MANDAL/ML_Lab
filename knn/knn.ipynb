{
 "cells": [
  {
   "cell_type": "code",
   "execution_count": null,
   "id": "6f2609aa-6e19-41f7-a7a5-ccd6758484ed",
   "metadata": {
    "tags": []
   },
   "outputs": [],
   "source": [
    "import pandas as pd\n",
    "import numpy as np\n",
    "import matplotlib.pyplot as plt\n",
    "%matplotlib inline\n",
    "import seaborn as sns\n",
    "from sklearn.preprocessing import LabelEncoder,StandardScaler\n",
    "from sklearn.model_selection import train_test_split\n",
    "from sklearn.neighbors import KNeighborsClassifier\n",
    "from sklearn.metrics import accuracy_score,confusion_matrix"
   ]
  },
  {
   "cell_type": "code",
   "execution_count": null,
   "id": "86dfb0e3-bbfb-4e01-b378-7df709b156fb",
   "metadata": {
    "tags": []
   },
   "outputs": [],
   "source": [
    "data = pd.read_csv(\"dataset.csv\")\n",
    "data.head()"
   ]
  },
  {
   "cell_type": "code",
   "execution_count": null,
   "id": "b254a7e7-7a5f-498a-8c67-4457e4f8f2f0",
   "metadata": {},
   "outputs": [],
   "source": [
    "data.info()"
   ]
  },
  {
   "cell_type": "code",
   "execution_count": null,
   "id": "5bb4a78f-ed55-4caf-b1c3-9b2dbad65df8",
   "metadata": {
    "tags": []
   },
   "outputs": [],
   "source": [
    "data.drop('Applicant_ID', axis=1, inplace=True)"
   ]
  },
  {
   "cell_type": "code",
   "execution_count": null,
   "id": "ec7d6d4c-737b-48ca-ad06-7e3843dd3d3b",
   "metadata": {
    "tags": []
   },
   "outputs": [],
   "source": [
    "data.head()"
   ]
  },
  {
   "cell_type": "code",
   "execution_count": null,
   "id": "12783e31-8c10-47f8-aa61-7fc776b45cec",
   "metadata": {
    "tags": []
   },
   "outputs": [],
   "source": [
    "categorical=[var for var in data.columns if data[var].dtype=='O']"
   ]
  },
  {
   "cell_type": "code",
   "execution_count": null,
   "id": "ddf381d6-d295-43f4-9898-0027b5ae5d52",
   "metadata": {},
   "outputs": [],
   "source": [
    "for var in categorical: \n",
    "    print(data[var].value_counts()/float(len(data)))"
   ]
  },
  {
   "cell_type": "code",
   "execution_count": null,
   "id": "35fd579f-af46-4fc8-8a11-e3c40b9950f7",
   "metadata": {},
   "outputs": [],
   "source": [
    "le = LabelEncoder()\n",
    "for col in categorical:\n",
    "    data[col] = le.fit_transform(data[col])"
   ]
  },
  {
   "cell_type": "code",
   "execution_count": null,
   "id": "a06daacb-ef6f-4411-9b84-6844429dfc50",
   "metadata": {
    "tags": []
   },
   "outputs": [],
   "source": [
    "data.head()"
   ]
  },
  {
   "cell_type": "code",
   "execution_count": null,
   "id": "c13f8796-117d-4049-92fe-41c5eaa4f855",
   "metadata": {},
   "outputs": [],
   "source": [
    "X = data.drop(['Loan_Eligibility'],axis=1)\n",
    "y = data['Loan_Eligibility']\n",
    "X_train,X_test,y_train,y_test=train_test_split(data[['Age','Gender','Marital_Status','Dependents','Monthly_Income','Employment_Status','Employment_Duration','Total_Monthly_Debt_Obligations','Credit_Score','Credit_History_Length','Debt_to_Income_Ratio','Loan_Amount','Loan_Term','Down_Payment_Amount','Interest_Rate','Installment_Amount','Housing_Status','Education_Level','Previous_Loan_Status','Previous_Loan_Amount','Previous_Loan_Term','Previous_Loan_Purpose']],data.Loan_Eligibility,test_size=0.1)"
   ]
  },
  {
   "cell_type": "code",
   "execution_count": null,
   "id": "c51d6e7c-3cc2-4bea-ae7a-d2247118ba05",
   "metadata": {
    "tags": []
   },
   "outputs": [],
   "source": [
    "X_train.shape"
   ]
  },
  {
   "cell_type": "code",
   "execution_count": null,
   "id": "5f186a47-ffdf-4133-ad0e-fd9c8f8325b7",
   "metadata": {
    "tags": []
   },
   "outputs": [],
   "source": [
    "#feature scaling\n",
    "sc=StandardScaler()\n",
    "X_train=sc.fit_transform(X_train)\n",
    "X_test=sc.fit_transform(X_test)"
   ]
  },
  {
   "cell_type": "code",
   "execution_count": null,
   "id": "5baa4016-6e41-491f-9655-2aa80c628b4a",
   "metadata": {
    "tags": []
   },
   "outputs": [],
   "source": [
    "knn = KNeighborsClassifier(n_neighbors=5)\n",
    "knn.fit(X_train, y_train)"
   ]
  },
  {
   "cell_type": "code",
   "execution_count": null,
   "id": "acd6b587-3152-4960-a745-f258cf615880",
   "metadata": {
    "tags": []
   },
   "outputs": [],
   "source": [
    "y_pred = knn.predict(X_test)\n",
    "accuracy_score(y_test, y_pred)"
   ]
  },
  {
   "cell_type": "code",
   "execution_count": null,
   "id": "7d4bc35a-e809-479d-a360-fa2836987575",
   "metadata": {},
   "outputs": [],
   "source": [
    "cm = confusion_matrix(y_test,y_pred)\n",
    "cm"
   ]
  },
  {
   "cell_type": "code",
   "execution_count": null,
   "id": "1fce1804-656c-4343-a03c-1b321d7381e5",
   "metadata": {},
   "outputs": [],
   "source": [
    "print(\"true positive: \",cm[0,0])\n",
    "print(\"true negative: \",cm[1,1])\n",
    "print(\"false positive: \",cm[0,1])\n",
    "print(\"false negative: \",cm[1,0])"
   ]
  },
  {
   "cell_type": "code",
   "execution_count": null,
   "id": "52e4e0c8",
   "metadata": {},
   "outputs": [],
   "source": [
    "cm_matrix=pd.DataFrame(data=cm,columns=['Actual Positive: 1','Actual Negative: 0'],index=['Predict Positive: 1','Predict Negative: 0'])\n",
    "sns.heatmap(cm_matrix, annot=True, fmt = 'd',cmap='YlGnBu')"
   ]
  }
 ],
 "metadata": {
  "kernelspec": {
   "display_name": "Python 3 (ipykernel)",
   "language": "python",
   "name": "python3"
  },
  "language_info": {
   "codemirror_mode": {
    "name": "ipython",
    "version": 3
   },
   "file_extension": ".py",
   "mimetype": "text/x-python",
   "name": "python",
   "nbconvert_exporter": "python",
   "pygments_lexer": "ipython3",
   "version": "3.12.2"
  }
 },
 "nbformat": 4,
 "nbformat_minor": 5
}
